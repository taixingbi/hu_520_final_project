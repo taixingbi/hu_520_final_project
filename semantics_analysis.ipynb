{
 "cells": [
  {
   "cell_type": "code",
   "execution_count": 1,
   "metadata": {},
   "outputs": [
    {
     "name": "stderr",
     "output_type": "stream",
     "text": [
      "Using TensorFlow backend.\n"
     ]
    }
   ],
   "source": [
    "#https://richliao.github.io/supervised/classification/2016/12/26/textclassifier-HATN/\n",
    "import pandas as pd\n",
    "import numpy as np\n",
    "from sklearn.model_selection import train_test_split\n",
    "from keras.preprocessing import sequence\n",
    "\n",
    "from sklearn.metrics import precision_recall_fscore_support\n",
    "import matplotlib.pyplot as plt\n",
    "from sklearn import metrics\n",
    "\n",
    "\n",
    "#my module\n",
    "import encode\n",
    "import _model_\n",
    "\n",
    "import word_embedding\n",
    "embedding_matrix = None"
   ]
  },
  {
   "cell_type": "markdown",
   "metadata": {},
   "source": [
    "#### dataset\n",
    "dataset from kaggle https://www.kaggle.com/c/word2vec-nlp-tutorial/data\n",
    "(data was tokenized already on my own)"
   ]
  },
  {
   "cell_type": "code",
   "execution_count": 2,
   "metadata": {},
   "outputs": [
    {
     "name": "stdout",
     "output_type": "stream",
     "text": [
      "read path:  data/labeledTraintoken.csv\n"
     ]
    },
    {
     "data": {
      "text/html": [
       "<div>\n",
       "<style scoped>\n",
       "    .dataframe tbody tr th:only-of-type {\n",
       "        vertical-align: middle;\n",
       "    }\n",
       "\n",
       "    .dataframe tbody tr th {\n",
       "        vertical-align: top;\n",
       "    }\n",
       "\n",
       "    .dataframe thead th {\n",
       "        text-align: right;\n",
       "    }\n",
       "</style>\n",
       "<table border=\"1\" class=\"dataframe\">\n",
       "  <thead>\n",
       "    <tr style=\"text-align: right;\">\n",
       "      <th></th>\n",
       "      <th>id</th>\n",
       "      <th>sentiment</th>\n",
       "      <th>review</th>\n",
       "    </tr>\n",
       "  </thead>\n",
       "  <tbody>\n",
       "    <tr>\n",
       "      <th>24995</th>\n",
       "      <td>3453_3</td>\n",
       "      <td>0</td>\n",
       "      <td>It like consideration IMDb review film review ...</td>\n",
       "    </tr>\n",
       "    <tr>\n",
       "      <th>24996</th>\n",
       "      <td>5064_1</td>\n",
       "      <td>0</td>\n",
       "      <td>I believe make film Completely unnecessary The...</td>\n",
       "    </tr>\n",
       "    <tr>\n",
       "      <th>24997</th>\n",
       "      <td>10905_3</td>\n",
       "      <td>0</td>\n",
       "      <td>Guy loser girl need build pick strong successf...</td>\n",
       "    </tr>\n",
       "    <tr>\n",
       "      <th>24998</th>\n",
       "      <td>10194_3</td>\n",
       "      <td>0</td>\n",
       "      <td>This minute documentary Buñuel make early Spai...</td>\n",
       "    </tr>\n",
       "    <tr>\n",
       "      <th>24999</th>\n",
       "      <td>8478_8</td>\n",
       "      <td>1</td>\n",
       "      <td>I movie child break heart No story unfinished ...</td>\n",
       "    </tr>\n",
       "  </tbody>\n",
       "</table>\n",
       "</div>"
      ],
      "text/plain": [
       "            id  sentiment                                             review\n",
       "24995   3453_3          0  It like consideration IMDb review film review ...\n",
       "24996   5064_1          0  I believe make film Completely unnecessary The...\n",
       "24997  10905_3          0  Guy loser girl need build pick strong successf...\n",
       "24998  10194_3          0  This minute documentary Buñuel make early Spai...\n",
       "24999   8478_8          1  I movie child break heart No story unfinished ..."
      ]
     },
     "execution_count": 2,
     "metadata": {},
     "output_type": "execute_result"
    }
   ],
   "source": [
    "def read_file(path_file):\n",
    "    print(\"read path: \",path_file)\n",
    "    df= pd.read_csv(path_file, index_col=0)\n",
    "    return df\n",
    "\n",
    "path_read_file= 'data/labeledTraintoken.csv'\n",
    "\n",
    "df= read_file(path_read_file)  \n",
    "#df= df[:5000]\n",
    "df.tail()"
   ]
  },
  {
   "cell_type": "markdown",
   "metadata": {},
   "source": [
    "#### parameters setting"
   ]
  },
  {
   "cell_type": "code",
   "execution_count": 3,
   "metadata": {},
   "outputs": [],
   "source": [
    "max_review_length = 500"
   ]
  },
  {
   "cell_type": "markdown",
   "metadata": {},
   "source": [
    "#### data preprocessing\n",
    "1. encode: token, encoding number from string with vocabulary\n",
    "2. padding as the same length "
   ]
  },
  {
   "cell_type": "code",
   "execution_count": 4,
   "metadata": {},
   "outputs": [
    {
     "name": "stderr",
     "output_type": "stream",
     "text": [
      "/Volumes/passport/personal/520/final project/sentiment-analysis-master/encode.py:8: FutureWarning: Method .as_matrix will be removed in a future version. Use .values instead.\n",
      "  x_text = [s.split(\" \") for s in df['review'].as_matrix()]\n",
      "/Volumes/passport/personal/520/final project/sentiment-analysis-master/encode.py:9: FutureWarning: Method .as_matrix will be removed in a future version. Use .values instead.\n",
      "  y=df['sentiment'].as_matrix()\n"
     ]
    },
    {
     "name": "stdout",
     "output_type": "stream",
     "text": [
      "20000 20000 73290\n"
     ]
    }
   ],
   "source": [
    "def preprocessing(df, max_review_length):\n",
    "    rate_train_test_split= 0.3\n",
    "    \n",
    "    x, y, map_vocabulary = encode.encode_data(df) \n",
    "    vocabulary= map_vocabulary.values()\n",
    "    vocabulary_size= len(vocabulary)\n",
    "\n",
    "    X_train, X_test, y_train, y_test = train_test_split(x, y, test_size= rate_train_test_split, random_state=0)\n",
    "    print( len(X_train), len(y_train), vocabulary_size )\n",
    "\n",
    "    #truncate and pad input sequences\n",
    "    X_train = sequence.pad_sequences(X_train, maxlen=max_review_length)\n",
    "    X_test = sequence.pad_sequences(X_test, maxlen=max_review_length)\n",
    "    \n",
    "    return X_train, X_test, y_train, y_test, x, y, vocabulary, vocabulary_size\n",
    "\n",
    "X_train, X_test, y_train, y_test, x, y, vocabulary, vocabulary_size = preprocessing(df, max_review_length)"
   ]
  },
  {
   "cell_type": "markdown",
   "metadata": {},
   "source": [
    "#### word embedding"
   ]
  },
  {
   "cell_type": "code",
   "execution_count": 5,
   "metadata": {},
   "outputs": [
    {
     "name": "stdout",
     "output_type": "stream",
     "text": [
      "word embedding...\n",
      "(73290, 300)\n",
      "word embedding loading done\n"
     ]
    }
   ],
   "source": [
    "if not embedding_matrix:\n",
    "    embedding_matrix= word_embedding.google_news(vocabulary)    "
   ]
  },
  {
   "cell_type": "code",
   "execution_count": 6,
   "metadata": {},
   "outputs": [],
   "source": [
    "def accuracy_curve(h):\n",
    "    print(h.history.keys())\n",
    "\n",
    "    plt.plot(h.history['accuracy'])\n",
    "    plt.plot(h.history['val_accuracy'])\n",
    "    plt.title('Model accuracy')\n",
    "    plt.ylabel('Accuracy')\n",
    "    plt.xlabel('Epoch')\n",
    "    plt.legend(['Train', 'Test'], loc='upper left')\n",
    "    plt.show()\n",
    "    \n",
    "def evaluate_model(model, X_test, y_true):\n",
    "    scores = model.evaluate(X_test, y_true, verbose=0)\n",
    "\n",
    "    y_prob = model.predict(X_test, batch_size=10, verbose=1)\n",
    "    y_pred= [y[0]> 0.5 for y in y_prob]\n",
    "    precision, recall, fscore, _= precision_recall_fscore_support(y_true, y_pred, average='binary')\n",
    "    print(\"Accuracy: %.2f%%\" % (scores[1]*100))\n",
    "    print(\"precision: %.2f%%\" % (precision*100))\n",
    "    print(\"recall: %.2f%%\" % (recall*100))\n",
    "    print(\"fscore: %.2f%%\" % (fscore*100))\n",
    "\n",
    "    fpr, tpr, _ = metrics.roc_curve(y_true,  y_prob)\n",
    "    auc = metrics.roc_auc_score(y_true, y_prob)\n",
    "    plt.plot(fpr,tpr,label=\"data 1, auc=\"+str(auc))\n",
    "    plt.legend(loc=4)\n",
    "    plt.show()"
   ]
  },
  {
   "cell_type": "code",
   "execution_count": 7,
   "metadata": {},
   "outputs": [],
   "source": [
    "def train_model(model, X_train, X_test, y_train, y_test, epochs=3, batch_size=32):\n",
    "    h= model.fit(X_train, y_train, validation_data=(X_test, y_test), epochs=epochs, batch_size=batch_size, verbose=1)\n",
    "    print(h.history.keys())\n",
    "    #dict_keys(['val_loss', 'val_accuracy', 'loss', 'accuracy'])\n",
    "\n",
    "    accuracy_curve(h)\n",
    "    evaluate_model(model, X_test, y_test)\n"
   ]
  },
  {
   "cell_type": "markdown",
   "metadata": {},
   "source": [
    "#### training CNN\n",
    "max_review_length = 100:  epochs= 6\n",
    "max_review_length = 500:  epochs= 5"
   ]
  },
  {
   "cell_type": "code",
   "execution_count": 10,
   "metadata": {},
   "outputs": [
    {
     "name": "stderr",
     "output_type": "stream",
     "text": [
      "/Volumes/passport/personal/520/final project/sentiment-analysis-master/_model_.py:34: UserWarning: Update your `Conv1D` call to the Keras 2 API: `Conv1D(activation=\"relu\", filters=128, kernel_size=2, strides=1, padding=\"valid\")`\n",
      "  subsample_length=1)(graph_in)\n",
      "/Volumes/passport/personal/520/final project/sentiment-analysis-master/_model_.py:35: UserWarning: Update your `MaxPooling1D` call to the Keras 2 API: `MaxPooling1D(pool_size=2)`\n",
      "  pool = MaxPooling1D(pool_length=2)(conv)\n",
      "/Volumes/passport/personal/520/final project/sentiment-analysis-master/_model_.py:34: UserWarning: Update your `Conv1D` call to the Keras 2 API: `Conv1D(activation=\"relu\", filters=128, kernel_size=3, strides=1, padding=\"valid\")`\n",
      "  subsample_length=1)(graph_in)\n",
      "/Volumes/passport/personal/520/final project/sentiment-analysis-master/_model_.py:34: UserWarning: Update your `Conv1D` call to the Keras 2 API: `Conv1D(activation=\"relu\", filters=128, kernel_size=4, strides=1, padding=\"valid\")`\n",
      "  subsample_length=1)(graph_in)\n",
      "/Volumes/passport/personal/520/final project/sentiment-analysis-master/_model_.py:38: UserWarning: Update your `Model` call to the Keras 2 API: `Model(inputs=Tensor(\"in..., outputs=Tensor(\"co...)`\n",
      "  model.add( Model(input=graph_in, output= concatenate(convs) ) )\n"
     ]
    },
    {
     "name": "stdout",
     "output_type": "stream",
     "text": [
      "Model: \"sequential_3\"\n",
      "_________________________________________________________________\n",
      "Layer (type)                 Output Shape              Param #   \n",
      "=================================================================\n",
      "embedding_3 (Embedding)      (None, 500, 300)          21987000  \n",
      "_________________________________________________________________\n",
      "dropout_3 (Dropout)          (None, 500, 300)          0         \n",
      "_________________________________________________________________\n",
      "model_2 (Model)              (None, 95488)             345984    \n",
      "_________________________________________________________________\n",
      "dense_4 (Dense)              (None, 50)                4774450   \n",
      "_________________________________________________________________\n",
      "dropout_4 (Dropout)          (None, 50)                0         \n",
      "_________________________________________________________________\n",
      "activation_3 (Activation)    (None, 50)                0         \n",
      "_________________________________________________________________\n",
      "dense_5 (Dense)              (None, 1)                 51        \n",
      "_________________________________________________________________\n",
      "activation_4 (Activation)    (None, 1)                 0         \n",
      "=================================================================\n",
      "Total params: 27,107,485\n",
      "Trainable params: 5,120,485\n",
      "Non-trainable params: 21,987,000\n",
      "_________________________________________________________________\n",
      "None\n",
      "Train on 20000 samples, validate on 5000 samples\n",
      "Epoch 1/10\n",
      "20000/20000 [==============================] - 157s 8ms/step - loss: 0.7844 - accuracy: 0.5134 - val_loss: 0.7015 - val_accuracy: 0.5266\n",
      "Epoch 2/10\n",
      "20000/20000 [==============================] - 150s 8ms/step - loss: 0.6993 - accuracy: 0.5183 - val_loss: 0.6937 - val_accuracy: 0.6326\n",
      "Epoch 3/10\n",
      "20000/20000 [==============================] - 149s 7ms/step - loss: 0.6530 - accuracy: 0.6196 - val_loss: 0.5458 - val_accuracy: 0.7498\n",
      "Epoch 4/10\n",
      "20000/20000 [==============================] - 158s 8ms/step - loss: 0.5696 - accuracy: 0.7023 - val_loss: 0.5039 - val_accuracy: 0.7748\n",
      "Epoch 5/10\n",
      "20000/20000 [==============================] - 150s 7ms/step - loss: 0.5085 - accuracy: 0.7487 - val_loss: 0.4852 - val_accuracy: 0.7626\n",
      "Epoch 6/10\n",
      "20000/20000 [==============================] - 144s 7ms/step - loss: 0.4453 - accuracy: 0.7919 - val_loss: 0.4461 - val_accuracy: 0.8064\n",
      "Epoch 7/10\n",
      "20000/20000 [==============================] - 144s 7ms/step - loss: 0.3926 - accuracy: 0.8264 - val_loss: 0.4441 - val_accuracy: 0.8128\n",
      "Epoch 8/10\n",
      "20000/20000 [==============================] - 144s 7ms/step - loss: 0.3427 - accuracy: 0.8508 - val_loss: 0.4623 - val_accuracy: 0.8076\n",
      "Epoch 9/10\n",
      "20000/20000 [==============================] - 144s 7ms/step - loss: 0.3080 - accuracy: 0.8719 - val_loss: 0.4719 - val_accuracy: 0.8070\n",
      "Epoch 10/10\n",
      "20000/20000 [==============================] - 144s 7ms/step - loss: 0.2833 - accuracy: 0.8791 - val_loss: 0.4760 - val_accuracy: 0.7970\n",
      "dict_keys(['val_loss', 'val_accuracy', 'loss', 'accuracy'])\n",
      "dict_keys(['val_loss', 'val_accuracy', 'loss', 'accuracy'])\n"
     ]
    },
    {
     "data": {
      "image/png": "[encoded data removed]",
      "text/plain": [
       "<Figure size 432x288 with 1 Axes>"
      ]
     },
     "metadata": {
      "needs_background": "light"
     },
     "output_type": "display_data"
    },
    {
     "name": "stdout",
     "output_type": "stream",
     "text": [
      "5000/5000 [==============================] - 14s 3ms/step\n",
      "Accuracy: 79.70%\n",
      "precision: 87.72%\n",
      "recall: 68.15%\n",
      "fscore: 76.70%\n"
     ]
    },
    {
     "data": {
      "image/png": "[encoded data removed]",
      "text/plain": [
       "<Figure size 432x288 with 1 Axes>"
      ]
     },
     "metadata": {
      "needs_background": "light"
     },
     "output_type": "display_data"
    }
   ],
   "source": [
    "epochs= 10 #5\n",
    "batch_size=64    \n",
    "model= _model_.cnn(vocabulary_size, max_review_length, embedding_matrix)\n",
    "train_model(model, X_train, X_test, y_train, y_test, epochs, batch_size)"
   ]
  },
  {
   "cell_type": "markdown",
   "metadata": {},
   "source": [
    "#### training LSTM\n",
    "max_review_length = 100:  epochs= 5\n",
    "max_review_length = 500:  epochs= 14"
   ]
  },
  {
   "cell_type": "code",
   "execution_count": 9,
   "metadata": {},
   "outputs": [
    {
     "name": "stdout",
     "output_type": "stream",
     "text": [
      "Model: \"sequential_2\"\n",
      "_________________________________________________________________\n",
      "Layer (type)                 Output Shape              Param #   \n",
      "=================================================================\n",
      "embedding_2 (Embedding)      (None, 500, 300)          21987000  \n",
      "_________________________________________________________________\n",
      "bidirectional_1 (Bidirection (None, 200)               320800    \n",
      "_________________________________________________________________\n",
      "dense_3 (Dense)              (None, 1)                 201       \n",
      "=================================================================\n",
      "Total params: 22,308,001\n",
      "Trainable params: 321,001\n",
      "Non-trainable params: 21,987,000\n",
      "_________________________________________________________________\n",
      "None\n",
      "Train on 20000 samples, validate on 5000 samples\n",
      "Epoch 1/14\n",
      "20000/20000 [==============================] - 230s 11ms/step - loss: 0.6244 - accuracy: 0.6456 - val_loss: 0.5741 - val_accuracy: 0.7084\n",
      "Epoch 2/14\n",
      "20000/20000 [==============================] - 227s 11ms/step - loss: 0.5612 - accuracy: 0.7139 - val_loss: 0.5061 - val_accuracy: 0.7512\n",
      "Epoch 3/14\n",
      "20000/20000 [==============================] - 227s 11ms/step - loss: 0.5445 - accuracy: 0.7257 - val_loss: 0.4989 - val_accuracy: 0.7590\n",
      "Epoch 4/14\n",
      "20000/20000 [==============================] - 228s 11ms/step - loss: 0.5261 - accuracy: 0.7368 - val_loss: 0.4929 - val_accuracy: 0.7600\n",
      "Epoch 5/14\n",
      "20000/20000 [==============================] - 228s 11ms/step - loss: 0.5118 - accuracy: 0.7498 - val_loss: 0.4975 - val_accuracy: 0.7580\n",
      "Epoch 6/14\n",
      "20000/20000 [==============================] - 228s 11ms/step - loss: 0.4844 - accuracy: 0.7704 - val_loss: 0.4753 - val_accuracy: 0.7754\n",
      "Epoch 7/14\n",
      "20000/20000 [==============================] - 229s 11ms/step - loss: 0.4627 - accuracy: 0.7815 - val_loss: 0.4507 - val_accuracy: 0.7908\n",
      "Epoch 8/14\n",
      "20000/20000 [==============================] - 1814s 91ms/step - loss: 0.4520 - accuracy: 0.7923 - val_loss: 0.4268 - val_accuracy: 0.8022\n",
      "Epoch 9/14\n",
      "20000/20000 [==============================] - 247s 12ms/step - loss: 0.4241 - accuracy: 0.8072 - val_loss: 0.4401 - val_accuracy: 0.7968\n",
      "Epoch 10/14\n",
      "20000/20000 [==============================] - 249s 12ms/step - loss: 0.4200 - accuracy: 0.8116 - val_loss: 0.4030 - val_accuracy: 0.8190\n",
      "Epoch 11/14\n",
      "20000/20000 [==============================] - 250s 13ms/step - loss: 0.3893 - accuracy: 0.8280 - val_loss: 0.4029 - val_accuracy: 0.8170\n",
      "Epoch 12/14\n",
      "20000/20000 [==============================] - 249s 12ms/step - loss: 0.3795 - accuracy: 0.8366 - val_loss: 0.3891 - val_accuracy: 0.8300\n",
      "Epoch 13/14\n",
      "20000/20000 [==============================] - 255s 13ms/step - loss: 0.3621 - accuracy: 0.8419 - val_loss: 0.3787 - val_accuracy: 0.8348\n",
      "Epoch 14/14\n",
      "20000/20000 [==============================] - 248s 12ms/step - loss: 0.3632 - accuracy: 0.8411 - val_loss: 0.3879 - val_accuracy: 0.8300\n",
      "dict_keys(['val_loss', 'val_accuracy', 'loss', 'accuracy'])\n",
      "dict_keys(['val_loss', 'val_accuracy', 'loss', 'accuracy'])\n"
     ]
    },
    {
     "data": {
      "image/png": "[encoded data removed]",
      "text/plain": [
       "<Figure size 432x288 with 1 Axes>"
      ]
     },
     "metadata": {
      "needs_background": "light"
     },
     "output_type": "display_data"
    },
    {
     "name": "stdout",
     "output_type": "stream",
     "text": [
      "5000/5000 [==============================] - 38s 8ms/step\n",
      "Accuracy: 83.00%\n",
      "precision: 82.83%\n",
      "recall: 82.42%\n",
      "fscore: 82.62%\n"
     ]
    },
    {
     "data": {
      "image/png": "[encoded data removed]",
      "text/plain": [
       "<Figure size 432x288 with 1 Axes>"
      ]
     },
     "metadata": {
      "needs_background": "light"
     },
     "output_type": "display_data"
    }
   ],
   "source": [
    "epochs= 14 #14\n",
    "batch_size=64    \n",
    "model= _model_.lstm(vocabulary_size, max_review_length, embedding_matrix)\n",
    "train_model(model, X_train, X_test, y_train, y_test, epochs, batch_size)"
   ]
  },
  {
   "cell_type": "code",
   "execution_count": null,
   "metadata": {},
   "outputs": [],
   "source": []
  },
  {
   "cell_type": "code",
   "execution_count": null,
   "metadata": {},
   "outputs": [],
   "source": []
  },
  {
   "cell_type": "code",
   "execution_count": null,
   "metadata": {},
   "outputs": [],
   "source": []
  }
 ],
 "metadata": {
  "kernelspec": {
   "display_name": "Python 3",
   "language": "python",
   "name": "python3"
  },
  "language_info": {
   "codemirror_mode": {
    "name": "ipython",
    "version": 3
   },
   "file_extension": ".py",
   "mimetype": "text/x-python",
   "name": "python",
   "nbconvert_exporter": "python",
   "pygments_lexer": "ipython3",
   "version": "3.7.3"
  }
 },
 "nbformat": 4,
 "nbformat_minor": 2
}
